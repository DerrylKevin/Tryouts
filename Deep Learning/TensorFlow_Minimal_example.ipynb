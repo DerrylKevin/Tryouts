{
  "nbformat": 4,
  "nbformat_minor": 0,
  "metadata": {
    "kernelspec": {
      "display_name": "Python 3",
      "language": "python",
      "name": "python3"
    },
    "language_info": {
      "codemirror_mode": {
        "name": "ipython",
        "version": 3
      },
      "file_extension": ".py",
      "mimetype": "text/x-python",
      "name": "python",
      "nbconvert_exporter": "python",
      "pygments_lexer": "ipython3",
      "version": "3.6.9"
    },
    "colab": {
      "name": "5.6. TensorFlow_Minimal_example.ipynb",
      "provenance": []
    }
  },
  "cells": [
    {
      "cell_type": "markdown",
      "metadata": {
        "id": "hsYuCx8qO0DZ",
        "colab_type": "text"
      },
      "source": [
        "### Import the relevant libraries"
      ]
    },
    {
      "cell_type": "code",
      "metadata": {
        "id": "xv5lLa29O0Db",
        "colab_type": "code",
        "colab": {
          "base_uri": "https://localhost:8080/",
          "height": 92
        },
        "outputId": "f9325ac5-7058-4ac5-f9fe-e84affe4d36e"
      },
      "source": [
        "# We must always import the relevant libraries for our problem at hand. NumPy and TensorFlow are required for this example.\n",
        "import numpy as np\n",
        "import matplotlib.pyplot as plt\n",
        "import tensorflow.compat.v1 as tf\n",
        "tf.disable_v2_behavior()"
      ],
      "execution_count": 9,
      "outputs": [
        {
          "output_type": "stream",
          "text": [
            "WARNING:tensorflow:From /usr/local/lib/python3.6/dist-packages/tensorflow/python/compat/v2_compat.py:96: disable_resource_variables (from tensorflow.python.ops.variable_scope) is deprecated and will be removed in a future version.\n",
            "Instructions for updating:\n",
            "non-resource variables are not supported in the long term\n"
          ],
          "name": "stdout"
        }
      ]
    },
    {
      "cell_type": "markdown",
      "metadata": {
        "id": "RIuI8_tLO0Dp",
        "colab_type": "text"
      },
      "source": [
        "### Data generation\n",
        "\n",
        "We generate data using the exact same logic and code as the example from the previous notebook. The only difference now is that we save it to an npz file. Npz is numpy's file type which allows you to save numpy arrays into a single .npz file. We introduce this change because in machine learning most often: \n",
        "\n",
        "* you are given some data (csv, database, etc.)\n",
        "* you preprocess it into a desired format (later on we will see methods for preprocesing)\n",
        "* you save it into npz files (if you're working in Python) to access later\n",
        "\n",
        "Nothing to worry about - this is literally saving your NumPy arrays into a file that you can later access, nothing more."
      ]
    },
    {
      "cell_type": "code",
      "metadata": {
        "id": "WqKNN89HO0Du",
        "colab_type": "code",
        "colab": {}
      },
      "source": [
        "# First, we should declare a variable containing the size of the training set we want to generate.\n",
        "observations = 1000\n",
        "\n",
        "# We will work with two variables as inputs. You can think about them as x1 and x2 in our previous examples.\n",
        "# We have picked x and z, since it is easier to differentiate them.\n",
        "# We generate them randomly, drawing from an uniform distribution. There are 3 arguments of this method (low, high, size).\n",
        "# The size of xs and zs is observations x 1. In this case: 1000 x 1.\n",
        "xs = np.random.uniform(low=-10, high=10, size=(observations,1))\n",
        "zs = np.random.uniform(-10, 10, (observations,1))\n",
        "\n",
        "# Combine the two dimensions of the input into one input matrix. \n",
        "# This is the X matrix from the linear model y = x*w + b.\n",
        "# column_stack is a Numpy method, which combines two matrices (vectors) into one.\n",
        "generated_inputs = np.column_stack((xs,zs))\n",
        "\n",
        "# We add a random small noise to the function i.e. f(x,z) = 2x - 3z + 5 + <small noise>\n",
        "noise = np.random.uniform(-1, 1, (observations,1))\n",
        "\n",
        "# Produce the targets according to our f(x,z) = 2x - 3z + 5 + noise definition.\n",
        "# In this way, we are basically saying: the weights should be 2 and -3, while the bias is 5.\n",
        "generated_targets = 2*xs - 3*zs + 5 + noise\n",
        "\n",
        "# save into an npz file called \"TF_intro\"\n",
        "np.savez('TF_intro', inputs=generated_inputs, targets=generated_targets)"
      ],
      "execution_count": 10,
      "outputs": []
    },
    {
      "cell_type": "markdown",
      "metadata": {
        "id": "X9hf4JboO0D4",
        "colab_type": "text"
      },
      "source": [
        "## Solving with TensorFlow\n",
        "\n",
        "<i/>Note: This intro is just the basics of TensorFlow which has way more capabilities and depth than that.<i>"
      ]
    },
    {
      "cell_type": "code",
      "metadata": {
        "id": "CpPC0x3XO0D6",
        "colab_type": "code",
        "colab": {}
      },
      "source": [
        "# The shape of the data we've prepared above. Think about it as: number of inputs, number of outputs.\n",
        "input_size = 2\n",
        "output_size = 1"
      ],
      "execution_count": 11,
      "outputs": []
    },
    {
      "cell_type": "markdown",
      "metadata": {
        "id": "oDb1n3AMO0EE",
        "colab_type": "text"
      },
      "source": [
        "### Outlining the model"
      ]
    },
    {
      "cell_type": "code",
      "metadata": {
        "id": "mE1qs2yPO0EF",
        "colab_type": "code",
        "colab": {}
      },
      "source": [
        "# Here we define a basic TensorFlow object - the placeholder.\n",
        "# As before, we will feed the inputs and targets to the model. \n",
        "# In the TensorFlow context, we feed the data to the model THROUGH the placeholders. \n",
        "# The particular inputs and targets are contained in our .npz file.\n",
        "\n",
        "# The first None parameter of the placeholders' shape means that\n",
        "# this dimension could be of any length. That's since we are mainly interested in\n",
        "# the input size, i.e. how many input variables we have and not the number of samples (observations)\n",
        "# The number of input variables changes the MODEL itself, while the number of observations doesn't.\n",
        "# Remember that the weights and biases were independent of the number of samples, so the MODEL is independent.\n",
        "# Important: NO calculation happens at this point.\n",
        "inputs = tf.placeholder(tf.float32, [None, input_size])\n",
        "targets = tf.placeholder(tf.float32, [None, output_size])\n",
        "\n",
        "# As before, we define our weights and biases.\n",
        "# They are the other basic TensorFlow object - a variable.\n",
        "# We feed data into placeholders and they have a different value for each iteration\n",
        "# Variables, however, preserve their values across iterations.\n",
        "# To sum up, data goes into placeholders; parameters go into variables.\n",
        "\n",
        "# We use the same random uniform initialization in [-0.1,0.1] as in the minimal example but using the TF syntax\n",
        "# Important: NO calculation happens at this point.\n",
        "weights = tf.Variable(tf.random_uniform([input_size, output_size], minval=-0.1, maxval=0.1))\n",
        "biases = tf.Variable(tf.random_uniform([output_size], minval=-0.1, maxval=0.1))\n",
        "\n",
        "# We get the outputs following our linear combination: y = xw + b\n",
        "# Important: NO calculation happens at this point.\n",
        "# This line simply tells TensorFlow what rule to apply when we feed in the training data (below).\n",
        "outputs = tf.matmul(inputs, weights) + biases"
      ],
      "execution_count": 12,
      "outputs": []
    },
    {
      "cell_type": "markdown",
      "metadata": {
        "id": "tnqKMZNhO0ER",
        "colab_type": "text"
      },
      "source": [
        "### Choosing the objective function and the optimization method"
      ]
    },
    {
      "cell_type": "code",
      "metadata": {
        "id": "p7nCw3YIO0ET",
        "colab_type": "code",
        "colab": {}
      },
      "source": [
        "# Again, we use a loss function, this time readily available, though.\n",
        "# mean_squared_error is the scaled L2-norm (per observation)\n",
        "# We divide by two to follow our earlier definitions. That doesn't really change anything.\n",
        "mean_loss = tf.losses.mean_squared_error(labels=targets, predictions=outputs) / 2.\n",
        "\n",
        "# Note that there also exists a function tf.nn.l2_loss. \n",
        "# tf.nn.l2_loss calculates the loss over all samples, instead of the average loss per sample.\n",
        "# Practically it's the same, a matter of preference.\n",
        "# The difference would be a smaller or larger learning rate to achieve the exact same result.\n",
        "\n",
        "# Instead of implementing Gradient Descent on our own, in TensorFlow we can simply state\n",
        "# \"Minimize the mean loss by using Gradient Descent with a given learning rate\"\n",
        "# Simple as that.\n",
        "optimize = tf.train.GradientDescentOptimizer(learning_rate=0.05).minimize(mean_loss)"
      ],
      "execution_count": 13,
      "outputs": []
    },
    {
      "cell_type": "markdown",
      "metadata": {
        "id": "rjoa9StMO0Ec",
        "colab_type": "text"
      },
      "source": [
        "### Prepare for execution"
      ]
    },
    {
      "cell_type": "code",
      "metadata": {
        "id": "-uQ4RgDOO0Ee",
        "colab_type": "code",
        "colab": {}
      },
      "source": [
        "# So far we've defined the placeholders, variables, the loss function and the optimization method.\n",
        "# We have the structure for training, but we haven't trained anything yet.\n",
        "# The actual training (and subsequent implementation of the ML algorithm) happens inside sessions.\n",
        "sess = tf.InteractiveSession()"
      ],
      "execution_count": 14,
      "outputs": []
    },
    {
      "cell_type": "markdown",
      "metadata": {
        "id": "8X3rpOu5O0Ek",
        "colab_type": "text"
      },
      "source": [
        "### Initializing variables"
      ]
    },
    {
      "cell_type": "code",
      "metadata": {
        "id": "4Mnv2cUgO0El",
        "colab_type": "code",
        "colab": {}
      },
      "source": [
        "# Before we start training, we need to initialize our variables: the weights and biases.\n",
        "# There is a specific method for initializing called global_variables_initializer().\n",
        "# Let's declare a variable \"initializer\" that will do that.\n",
        "initializer = tf.global_variables_initializer()\n",
        "\n",
        "# Time to initialize the variables.\n",
        "sess.run(initializer)"
      ],
      "execution_count": 15,
      "outputs": []
    },
    {
      "cell_type": "markdown",
      "metadata": {
        "id": "1c_PfhCtO0Er",
        "colab_type": "text"
      },
      "source": [
        "### Loading training data"
      ]
    },
    {
      "cell_type": "code",
      "metadata": {
        "id": "OWbvLfYlO0Es",
        "colab_type": "code",
        "colab": {}
      },
      "source": [
        "# We finally load the training data we created above.\n",
        "training_data = np.load('TF_intro.npz')"
      ],
      "execution_count": 16,
      "outputs": []
    },
    {
      "cell_type": "markdown",
      "metadata": {
        "id": "Pl3bbKNgO0E0",
        "colab_type": "text"
      },
      "source": [
        "### Learning"
      ]
    },
    {
      "cell_type": "code",
      "metadata": {
        "id": "w7C74LQDO0E0",
        "colab_type": "code",
        "colab": {
          "base_uri": "https://localhost:8080/",
          "height": 1000
        },
        "outputId": "9122e6d1-3c8d-484a-d22c-968592bc7276"
      },
      "source": [
        "# As in the previous example, we train for a set number (100) of iterations over the dataset\n",
        "for i in range(100):\n",
        "    # This expression is a bit more complex but you'll learn to appreciate its power and\n",
        "    # flexibility in the following lessons.\n",
        "    # sess.run is the session's function to actually do something, anything.\n",
        "    # Above, we used it to initialize the variables.\n",
        "    # Here, we use it to feed the training data to the computational graph, defined by the feed_dict parameter\n",
        "    # and run operations (already defined above), given as the first parameter (optimize, mean_loss).\n",
        "    \n",
        "    # So the line of code means: \"Run the optimize and mean_loss operations by filling the placeholder\n",
        "    # objects with data from the feed_dict parameter\".\n",
        "    # Curr_loss catches the output from the two operations.\n",
        "    # Using \"_,\" we omit the first one, because optimize has no output (it's always \"None\"). \n",
        "    # The second one catches the value of the mean_loss for the current run, thus curr_loss actually = mean_loss \n",
        "    _, curr_loss = sess.run([optimize, mean_loss], \n",
        "        feed_dict={inputs: training_data['inputs'], targets: training_data['targets']})\n",
        "    \n",
        "    # We print the current average loss\n",
        "    print(curr_loss)"
      ],
      "execution_count": 17,
      "outputs": [
        {
          "output_type": "stream",
          "text": [
            "244.03618\n",
            "120.28839\n",
            "62.07783\n",
            "34.18806\n",
            "20.500093\n",
            "13.55209\n",
            "9.850706\n",
            "7.742169\n",
            "6.434639\n",
            "5.544372\n",
            "4.8827753\n",
            "4.355473\n",
            "3.9140444\n",
            "3.532708\n",
            "3.1969945\n",
            "2.898183\n",
            "2.6305482\n",
            "2.3899922\n",
            "2.1733491\n",
            "1.9780283\n",
            "1.8018211\n",
            "1.6428032\n",
            "1.4992702\n",
            "1.3697004\n",
            "1.2527293\n",
            "1.1471264\n",
            "1.0517869\n",
            "0.9657115\n",
            "0.88799965\n",
            "0.8178392\n",
            "0.7544953\n",
            "0.69730604\n",
            "0.6456731\n",
            "0.59905714\n",
            "0.55697024\n",
            "0.5189725\n",
            "0.48466644\n",
            "0.45369378\n",
            "0.4257304\n",
            "0.40048444\n",
            "0.3776906\n",
            "0.3571116\n",
            "0.3385323\n",
            "0.32175818\n",
            "0.30661383\n",
            "0.29294086\n",
            "0.28059635\n",
            "0.26945135\n",
            "0.25938907\n",
            "0.25030446\n",
            "0.24210244\n",
            "0.23469739\n",
            "0.22801198\n",
            "0.22197583\n",
            "0.21652633\n",
            "0.21160638\n",
            "0.2071643\n",
            "0.20315386\n",
            "0.19953318\n",
            "0.1962641\n",
            "0.19331276\n",
            "0.19064818\n",
            "0.18824244\n",
            "0.18607043\n",
            "0.1841095\n",
            "0.18233906\n",
            "0.18074062\n",
            "0.17929758\n",
            "0.17799465\n",
            "0.1768183\n",
            "0.17575628\n",
            "0.17479745\n",
            "0.17393175\n",
            "0.17315023\n",
            "0.17244461\n",
            "0.17180753\n",
            "0.17123239\n",
            "0.17071308\n",
            "0.17024429\n",
            "0.16982095\n",
            "0.16943881\n",
            "0.16909382\n",
            "0.1687823\n",
            "0.16850105\n",
            "0.16824716\n",
            "0.16801788\n",
            "0.16781092\n",
            "0.16762406\n",
            "0.16745533\n",
            "0.16730304\n",
            "0.16716556\n",
            "0.1670414\n",
            "0.16692932\n",
            "0.16682811\n",
            "0.16673677\n",
            "0.16665426\n",
            "0.1665798\n",
            "0.16651255\n",
            "0.16645181\n",
            "0.16639705\n"
          ],
          "name": "stdout"
        }
      ]
    },
    {
      "cell_type": "markdown",
      "metadata": {
        "id": "_hcDZTg3O0E8",
        "colab_type": "text"
      },
      "source": [
        "### Plotting the data"
      ]
    },
    {
      "cell_type": "code",
      "metadata": {
        "id": "q9Nma4E-O0E9",
        "colab_type": "code",
        "colab": {
          "base_uri": "https://localhost:8080/",
          "height": 279
        },
        "outputId": "d65d211b-4c8d-469b-81a8-f3891340dac0"
      },
      "source": [
        "# As before, we want to plot the last output vs targets after the training is supposedly over.\n",
        "# Same notation as above but this time we don't want to train anymore, and we are not interested\n",
        "# in the loss function value.\n",
        "# What we want, however, are the outputs. \n",
        "# Therefore, instead of the optimize and mean_loss operations, we pass the \"outputs\" as the only parameter.\n",
        "out = sess.run([outputs], \n",
        "               feed_dict={inputs: training_data['inputs']})\n",
        "# The model is optimized, so the outputs are calculated based on the last form of the model\n",
        "\n",
        "# We have to np.squeeze the arrays in order to fit them to what the plot function expects.\n",
        "# Doesn't change anything as we cut dimensions of size 1 - just a technicality.\n",
        "plt.plot(np.squeeze(out), np.squeeze(training_data['targets']))\n",
        "plt.xlabel('outputs')\n",
        "plt.ylabel('targets')\n",
        "plt.show()\n",
        "        \n",
        "# Voila - what you see should be exactly the same as in the previous notebook!\n",
        "# You probably don't see the point of TensorFlow now - it took us more lines of code\n",
        "# to achieve this simple result. However, once we go deeper in the next chapter,\n",
        "# TensorFlow will save us hundreds of lines of code."
      ],
      "execution_count": 18,
      "outputs": [
        {
          "output_type": "display_data",
          "data": {
            "image/png": "[encoded data removed]",
            "text/plain": [
              "<Figure size 432x288 with 1 Axes>"
            ]
          },
          "metadata": {
            "tags": [],
            "needs_background": "light"
          }
        }
      ]
    }
  ]
}